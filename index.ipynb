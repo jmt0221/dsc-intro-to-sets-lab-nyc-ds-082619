{
 "cells": [
  {
   "cell_type": "markdown",
   "metadata": {},
   "source": [
    "# Introduction to Sets - Lab\n",
    "\n",
    "## Introduction\n",
    "\n",
    "Probability theory is all around. A common example is in the game of poker or related card games, where players try to calculate the probability of winning a round given the cards they have in their hands. Also in the business context probabilities play an important role. Operating in an volatile economy, companies need to take uncertainty into account and this is exactly where probability theory plays a role.\n",
    "\n",
    "As mentioned in the lesson before, a good understanding of probability starts with understanding of sets and set operations. That's exactly what you'll learn in this lab!\n",
    "\n",
    "## Objectives\n",
    "\n",
    "You will be able to:\n",
    "\n",
    "- Have a better sense of what sets, universal sets, and subsets are\n",
    "- Know how to perform common set operations in Python \n",
    "- Learn how to use Venn Diagrams to understand about the relationships between sets\n",
    "\n",
    "\n",
    "## Exploring Set Operations Using a Venn Diagram\n",
    "\n",
    "Let's start with a pretty conceptual example. Let's consider the following sets:\n",
    "\n",
    "   - $\\Omega$ = positive integers between [1, 12]\n",
    "   - $A$= even numbers between [1, 10]\n",
    "   - $B = \\{3,8,11,12\\}$\n",
    "   - $C = \\{2,3,6,8,9,11\\}$\n",
    "    \n",
    "\n",
    "#### a. Illustrate all the sets in a Venn Diagram like the one below. The rectangular shape represents the universal set.\n",
    "\n",
    "<img src=\"./images/venn_diagr.png\" width=\"600\">\n"
   ]
  },
  {
   "cell_type": "markdown",
   "metadata": {},
   "source": [
    "#### b. Using your Venn Diagram, list the elements in each of the following sets:\n",
    "\n",
    "- $ A \\cap B$\n",
    "- $ A \\cup C$\n",
    "- $A^c$ \n",
    "- The absolute complement of B\n",
    "- $(A \\cup B)^c$\n",
    "- $B \\cap C'$\n",
    "- $A\\backslash B$\n",
    "- $C \\backslash (B \\backslash A)$ \n",
    "- $(C \\cap A) \\cup (C \\backslash B)$"
   ]
  },
  {
   "cell_type": "markdown",
   "metadata": {},
   "source": [
    "\n",
    "        \n",
    "        \n",
    "#### c. For the remainder of this exercise, let's  create sets A, B and C and universal set U in Python and test out the results you came up with. Sets are easy to create in Python. For a guide to the syntax, follow some of the documentation [here](https://www.w3schools.com/python/python_sets.asp)"
   ]
  },
  {
   "cell_type": "code",
   "execution_count": 1,
   "metadata": {},
   "outputs": [
    {
     "data": {
      "text/plain": [
       "\"Type A: <class 'set'>, A: {2, 4, 6, 8, 10}\""
      ]
     },
     "execution_count": 1,
     "metadata": {},
     "output_type": "execute_result"
    }
   ],
   "source": [
    "# Create set A\n",
    "A = set(range(2,11,2))\n",
    "'Type A: {}, A: {}'.format(type(A), A) # \"Type A: <class 'set'>, A: {2, 4, 6, 8, 10}\""
   ]
  },
  {
   "cell_type": "code",
   "execution_count": 2,
   "metadata": {},
   "outputs": [
    {
     "data": {
      "text/plain": [
       "\"Type B: <class 'set'>, B: {8, 3, 11, 12}\""
      ]
     },
     "execution_count": 2,
     "metadata": {},
     "output_type": "execute_result"
    }
   ],
   "source": [
    "# Create set B\n",
    "B = set([8,11,3,12])\n",
    "'Type B: {}, B: {}'.format(type(B), B) # \"Type B: <class 'set'>, B: {8, 11, 3, 12}\""
   ]
  },
  {
   "cell_type": "code",
   "execution_count": 3,
   "metadata": {},
   "outputs": [
    {
     "data": {
      "text/plain": [
       "\"Type C: <class 'set'>, C: {2, 3, 6, 8, 9, 11}\""
      ]
     },
     "execution_count": 3,
     "metadata": {},
     "output_type": "execute_result"
    }
   ],
   "source": [
    "# Create set C\n",
    "C = set([2,3,6,8,9,11])\n",
    "'Type C: {}, C: {}'.format(type(C), C) # \"Type C: <class 'set'>, C: {2, 3, 6, 8, 9, 11}\""
   ]
  },
  {
   "cell_type": "code",
   "execution_count": 4,
   "metadata": {},
   "outputs": [
    {
     "data": {
      "text/plain": [
       "\"Type U: <class 'set'>, U: {1, 2, 3, 4, 5, 6, 7, 8, 9, 10, 11, 12}\""
      ]
     },
     "execution_count": 4,
     "metadata": {},
     "output_type": "execute_result"
    }
   ],
   "source": [
    "# Create universal set U\n",
    "U = set(range(1,13))\n",
    "'Type U: {}, U: {}'.format(type(U), U) # \"Type U: <class 'set'>, U: {1, 2, 3, 4, 5, 6, 7, 8, 9, 10, 11, 12}\""
   ]
  },
  {
   "cell_type": "markdown",
   "metadata": {},
   "source": [
    "Now, verify your answers in section 1 by using the correct methods in Python. To provide a little bit of help, you can find a table with common operations on sets below.\n",
    "\n",
    "| Method        |\tEquivalent |\tResult |\n",
    "| ------                    | ------       | ------    |\n",
    "| s.issubset(t)             |\ts <= t     | test whether every element in s is in t\n",
    "| s.issuperset(t)           |\ts >= t     | test whether every element in t is in s\n",
    "| s.union(t)                |\ts $\\mid$ t | new set with elements from both s and t\n",
    "| s.intersection(t)         |\ts & t      | new set with elements common to s and t\n",
    "| s.difference(t)           |\ts - t \t   | new set with elements in s but not in t\n",
    "| s.symmetric_difference(t) |\ts ^ t      | new set with elements in either s or t but not both"
   ]
  },
  {
   "cell_type": "markdown",
   "metadata": {},
   "source": [
    "#### 1. $ A \\cap B$"
   ]
  },
  {
   "cell_type": "code",
   "execution_count": 5,
   "metadata": {},
   "outputs": [
    {
     "data": {
      "text/plain": [
       "{8}"
      ]
     },
     "execution_count": 5,
     "metadata": {},
     "output_type": "execute_result"
    }
   ],
   "source": [
    "A_inters_B =  A.intersection(B)\n",
    "A_inters_B # {8}"
   ]
  },
  {
   "cell_type": "markdown",
   "metadata": {},
   "source": [
    "#### 2. $ A \\cup C $"
   ]
  },
  {
   "cell_type": "code",
   "execution_count": 6,
   "metadata": {},
   "outputs": [
    {
     "data": {
      "text/plain": [
       "{2, 3, 4, 6, 8, 9, 10, 11}"
      ]
     },
     "execution_count": 6,
     "metadata": {},
     "output_type": "execute_result"
    }
   ],
   "source": [
    "A_union_C = A.union(C)\n",
    "A_union_C # {2, 3, 4, 6, 8, 9, 10, 11}"
   ]
  },
  {
   "cell_type": "markdown",
   "metadata": {},
   "source": [
    "#### 3.  $A^c$ (you'll have to be a little creative here!)"
   ]
  },
  {
   "cell_type": "code",
   "execution_count": 8,
   "metadata": {},
   "outputs": [
    {
     "data": {
      "text/plain": [
       "{1, 3, 5, 7, 9, 11, 12}"
      ]
     },
     "execution_count": 8,
     "metadata": {},
     "output_type": "execute_result"
    }
   ],
   "source": [
    "A_comp = U-A\n",
    "A_comp # {1, 3, 5, 7, 9, 11, 12}"
   ]
  },
  {
   "cell_type": "markdown",
   "metadata": {},
   "source": [
    "#### 4.  $(A \\cup B)^c $"
   ]
  },
  {
   "cell_type": "code",
   "execution_count": 9,
   "metadata": {},
   "outputs": [
    {
     "data": {
      "text/plain": [
       "{1, 5, 7, 9}"
      ]
     },
     "execution_count": 9,
     "metadata": {},
     "output_type": "execute_result"
    }
   ],
   "source": [
    "A_union_B_comp = U - (A|B)\n",
    "A_union_B_comp # {1, 5, 7, 9}"
   ]
  },
  {
   "cell_type": "markdown",
   "metadata": {},
   "source": [
    "#### 5. $B \\cap C' $"
   ]
  },
  {
   "cell_type": "code",
   "execution_count": 10,
   "metadata": {},
   "outputs": [
    {
     "data": {
      "text/plain": [
       "{12}"
      ]
     },
     "execution_count": 10,
     "metadata": {},
     "output_type": "execute_result"
    }
   ],
   "source": [
    "B_inters_C_comp = B & (U-C)\n",
    "B_inters_C_comp # {12}"
   ]
  },
  {
   "cell_type": "markdown",
   "metadata": {},
   "source": [
    "#### 6. $A\\backslash B$"
   ]
  },
  {
   "cell_type": "code",
   "execution_count": 11,
   "metadata": {},
   "outputs": [
    {
     "data": {
      "text/plain": [
       "{2, 4, 6, 10}"
      ]
     },
     "execution_count": 11,
     "metadata": {},
     "output_type": "execute_result"
    }
   ],
   "source": [
    "compl_of_B = A-B\n",
    "compl_of_B # {2, 4, 6, 10}"
   ]
  },
  {
   "cell_type": "markdown",
   "metadata": {},
   "source": [
    "#### 7. $C \\backslash (B \\backslash A) $"
   ]
  },
  {
   "cell_type": "code",
   "execution_count": 12,
   "metadata": {},
   "outputs": [
    {
     "data": {
      "text/plain": [
       "{2, 6, 8, 9}"
      ]
     },
     "execution_count": 12,
     "metadata": {},
     "output_type": "execute_result"
    }
   ],
   "source": [
    "C_compl_B_compl_A = C-(B-A)\n",
    "C_compl_B_compl_A # {2, 6, 8, 9}"
   ]
  },
  {
   "cell_type": "markdown",
   "metadata": {},
   "source": [
    "#### 8.  $(C \\cap A) \\cup (C \\backslash B)$"
   ]
  },
  {
   "cell_type": "code",
   "execution_count": 13,
   "metadata": {},
   "outputs": [
    {
     "data": {
      "text/plain": [
       "{2, 6, 8, 9}"
      ]
     },
     "execution_count": 13,
     "metadata": {},
     "output_type": "execute_result"
    }
   ],
   "source": [
    "C_inters_A_union_C_min_B= (A&C)|(C-B)\n",
    "C_inters_A_union_C_min_B # {2, 6, 8, 9}"
   ]
  },
  {
   "cell_type": "markdown",
   "metadata": {},
   "source": [
    "## The Inclusion Exclusion Principle"
   ]
  },
  {
   "cell_type": "markdown",
   "metadata": {},
   "source": [
    "Use A, B and C from exercise one to verify the inclusion exclusion principle in Python. \n",
    "You can use the sets A, B and C as used in the previous exercise. \n",
    "\n",
    "Recall from the previous lessen that:\n",
    "\n",
    "$$\\mid A \\cup B\\cup C\\mid = \\mid A \\mid + \\mid B \\mid + \\mid C \\mid - \\mid A \\cap B \\mid  -\\mid A \\cap C \\mid - \\mid B \\cap C \\mid  + \\mid A \\cap B \\cap C \\mid $$\n",
    "\n",
    "combining these main commands:\n",
    "\n",
    "| Method        |\tEquivalent |\tResult |\n",
    "| ------                    | ------       | ------    |\n",
    "| a.union(b)                |\tA $\\mid$ B | new set with elements from both a and b\n",
    "| a.intersection(b)         |\tA & B      | new set with elements common to a and b\n",
    "\n",
    "along with the `len(x)` function to get to the cardinality of a given x (\"|x|\").\n",
    "\n",
    "What you'll do is translate the left hand side of the equation for the inclusion principle in the object `left_hand_eq`, and the right hand side in the object `right_hand_eq` and see if the results are the same.\n"
   ]
  },
  {
   "cell_type": "code",
   "execution_count": 20,
   "metadata": {},
   "outputs": [
    {
     "name": "stdout",
     "output_type": "stream",
     "text": [
      "9\n"
     ]
    }
   ],
   "source": [
    "left_hand_eq = len(A|B|C)\n",
    "print(left_hand_eq)  # 9 elements in the set"
   ]
  },
  {
   "cell_type": "code",
   "execution_count": 19,
   "metadata": {},
   "outputs": [
    {
     "name": "stdout",
     "output_type": "stream",
     "text": [
      "9\n"
     ]
    }
   ],
   "source": [
    "right_hand_eq = len(A) +len(B) + len(C) - len(A&C) - len(A&B) - len(B&C) + len (A&B&C)\n",
    "print(right_hand_eq) # 9 elements in the set"
   ]
  },
  {
   "cell_type": "code",
   "execution_count": 22,
   "metadata": {},
   "outputs": [
    {
     "data": {
      "text/plain": [
       "True"
      ]
     },
     "execution_count": 22,
     "metadata": {},
     "output_type": "execute_result"
    }
   ],
   "source": [
    "# Use a comparison operator to compare `left_hand_eq` and `right_hand_eq`. Needs to say \"True\".\n",
    "left_hand_eq==right_hand_eq"
   ]
  },
  {
   "cell_type": "markdown",
   "metadata": {},
   "source": [
    "## Set Operations in Python\n",
    "\n",
    "Mary is preparing for a road trip from her hometown, Boston, to Chicago. She has quite a few pets, yet luckily, so do her friends. They try to make sure that they take care of each other's pets while someone is away on a trip. A month ago, each respective person's pet collection was given by the following three sets:"
   ]
  },
  {
   "cell_type": "code",
   "execution_count": 28,
   "metadata": {},
   "outputs": [],
   "source": [
    "Nina = set([\"Cat\",\"Dog\",\"Rabbit\",\"Donkey\",\"Parrot\", \"Goldfish\"])\n",
    "Mary = set([\"Dog\",\"Chinchilla\",\"Horse\", \"Chicken\"])\n",
    "Eve = set([\"Rabbit\", \"Turtle\", \"Goldfish\"])"
   ]
  },
  {
   "cell_type": "markdown",
   "metadata": {},
   "source": [
    "In this exercise, you'll be able to use the following operations:\n",
    "\n",
    "|Operation                          |\tEquivalent |\tResult|\n",
    "| ------                            | ------       | ------   |\n",
    "|s.update(t)                        | \t$s \\mid t$ \t   |return set s with elements added from t|\n",
    "|s.intersection_update(t)           | \ts &= t     |\treturn set s keeping only elements also found in t|\n",
    "|s.difference_update(t)             |\ts -= t \t   |return set s after removing elements found in t|\n",
    "|s.symmetric_difference_update(t)   |\ts ^= t \t   |return set s with elements from s or t but not both|\n",
    "|s.add(x)                           |\t           |\tadd element x to set s|\n",
    "|s.remove(x)                        |\t           |\tremove x from set s|\n",
    "|s.discard(x)                       |\t           |\tremoves x from set s if present|\n",
    "|s.pop()                            | \t           |\tremove and return an arbitrary element from s|\n",
    "|s.clear()            \t            |  \t           |remove all elements from set s|\n",
    "\n",
    "Sadly, Eve's turtle passed away last week. Let's update her pet list accordingly."
   ]
  },
  {
   "cell_type": "code",
   "execution_count": 29,
   "metadata": {},
   "outputs": [
    {
     "data": {
      "text/plain": [
       "{'Goldfish', 'Rabbit'}"
      ]
     },
     "execution_count": 29,
     "metadata": {},
     "output_type": "execute_result"
    }
   ],
   "source": [
    "Eve.discard('Turtle')\n",
    "Eve # should be {'Rabbit', 'Goldfish'}"
   ]
  },
  {
   "cell_type": "markdown",
   "metadata": {},
   "source": [
    "This time around, Nina promised to take care of Mary's pets while she's awat. but also wants to make sure her pets are well taken care of. As Nina is already spending a considerable amount of time taking care of her own pets, adding a few more won't make that much of a difference. Nina does want to update her list while Marie is away. "
   ]
  },
  {
   "cell_type": "code",
   "execution_count": 31,
   "metadata": {},
   "outputs": [
    {
     "data": {
      "text/plain": [
       "{'Cat',\n",
       " 'Chicken',\n",
       " 'Chinchilla',\n",
       " 'Dog',\n",
       " 'Donkey',\n",
       " 'Goldfish',\n",
       " 'Horse',\n",
       " 'Parrot',\n",
       " 'Rabbit'}"
      ]
     },
     "execution_count": 31,
     "metadata": {},
     "output_type": "execute_result"
    }
   ],
   "source": [
    "Nina.update(Mary)\n",
    "Nina # {'Chicken', 'Horse', 'Chinchilla', 'Parrot', 'Rabbit', 'Donkey', 'Dog', 'Cat', 'Goldfish'}"
   ]
  },
  {
   "cell_type": "markdown",
   "metadata": {},
   "source": [
    "Mary, on the other hand, wants to clear her list altogether while away:"
   ]
  },
  {
   "cell_type": "code",
   "execution_count": 33,
   "metadata": {},
   "outputs": [
    {
     "data": {
      "text/plain": [
       "set()"
      ]
     },
     "execution_count": 33,
     "metadata": {},
     "output_type": "execute_result"
    }
   ],
   "source": [
    "Mary.clear()\n",
    "Mary  # set()"
   ]
  },
  {
   "cell_type": "markdown",
   "metadata": {},
   "source": [
    "Look at how many species Nina is taking care of right now."
   ]
  },
  {
   "cell_type": "code",
   "execution_count": 35,
   "metadata": {},
   "outputs": [
    {
     "data": {
      "text/plain": [
       "9"
      ]
     },
     "execution_count": 35,
     "metadata": {},
     "output_type": "execute_result"
    }
   ],
   "source": [
    "n_species_Nina = len(Nina)\n",
    "n_species_Nina # 9"
   ]
  },
  {
   "cell_type": "markdown",
   "metadata": {},
   "source": [
    "Taking care of this many pets is weighing heavy on Nina. She remembered Eve had a smaller collection of pets lately, and that's why she asks Eve to take care of the common species. This way, the extra pets are not a huge effort on Eve's behalf. Let's update Nina's pet collection."
   ]
  },
  {
   "cell_type": "code",
   "execution_count": 37,
   "metadata": {},
   "outputs": [
    {
     "data": {
      "text/plain": [
       "7"
      ]
     },
     "execution_count": 37,
     "metadata": {},
     "output_type": "execute_result"
    }
   ],
   "source": [
    "None\n",
    "len(Nina-Eve) # 7"
   ]
  },
  {
   "cell_type": "markdown",
   "metadata": {},
   "source": [
    "Taking care of 7 species is something Nina feels comfortable doing!"
   ]
  },
  {
   "cell_type": "markdown",
   "metadata": {},
   "source": [
    "## Writing Down the Elements in a Set\n",
    "\n",
    "\n",
    "Mary dropped off her Pet's at Nina's house, and finally made her way to the highway. Awesome, her vacation has begun!\n",
    "She's approaching an exit. At the end of this particular highway exit, cars can either turn left (L), go straight (S) or turn right (R). It's pretty busy and there are two cars driving close to her. What you'll do now is create several sets. You won't be using Python here, it's sufficient to write the sets down on paper. A good notion of sets and subsets will help you calculate probabilities in the next lab!\n",
    "\n",
    "Note: each set of action is what _all three cars_ are doing at any given time\n",
    "\n",
    "a. Create a set $A$ of all possible outcomes assuming that all three cars drive in the same direction.\n",
    "           \n",
    "b. Create a set $B$ of all possible outcomes assuming that all three cars drive in a different direction.\n",
    "             \n",
    "c. Create a set $C$ of all possible outcomes assuming that exactly 2 cars turn right.\n",
    "            \n",
    "d. Create a set $D$ of all possible outcomes assuming that exactly 2 cars drive in the same direction.\n",
    "\n",
    "                          \n",
    "e. Write down the interpretation and give all possible outcomes for the sets denoted by:\n",
    " - I. $D'$ \n",
    " - II. $C \\cap D$, \n",
    " - III. $C \\cup D$. "
   ]
  },
  {
   "cell_type": "markdown",
   "metadata": {},
   "source": [
    "## Optional Exercise: European Countries\n",
    "\n",
    "Use set operations to determine which European countries are not in the European Union. You just might have to clean the data first with pandas."
   ]
  },
  {
   "cell_type": "code",
   "execution_count": 38,
   "metadata": {},
   "outputs": [],
   "source": [
    "import pandas as pd\n",
    "\n",
    "#Load Europe and EU\n",
    "europe = pd.read_excel('Europe_and_EU.xlsx', sheet_name = 'Europe') \n",
    "eu = pd.read_excel('Europe_and_EU.xlsx', sheet_name = 'EU')\n",
    "\n",
    "#Use pandas to remove any whitespace from names"
   ]
  },
  {
   "cell_type": "code",
   "execution_count": 43,
   "metadata": {},
   "outputs": [
    {
     "data": {
      "text/html": [
       "<div>\n",
       "<style scoped>\n",
       "    .dataframe tbody tr th:only-of-type {\n",
       "        vertical-align: middle;\n",
       "    }\n",
       "\n",
       "    .dataframe tbody tr th {\n",
       "        vertical-align: top;\n",
       "    }\n",
       "\n",
       "    .dataframe thead th {\n",
       "        text-align: right;\n",
       "    }\n",
       "</style>\n",
       "<table border=\"1\" class=\"dataframe\">\n",
       "  <thead>\n",
       "    <tr style=\"text-align: right;\">\n",
       "      <th></th>\n",
       "      <th>Rank</th>\n",
       "      <th>Country</th>\n",
       "      <th>Population</th>\n",
       "      <th>% of population</th>\n",
       "      <th>Average relative annual growth (%)</th>\n",
       "      <th>Average absolute annual growth</th>\n",
       "      <th>Estimated doubling time (Years)</th>\n",
       "      <th>Official figure (where available)</th>\n",
       "      <th>Date of last figure</th>\n",
       "      <th>Regional grouping</th>\n",
       "      <th>Source</th>\n",
       "    </tr>\n",
       "  </thead>\n",
       "  <tbody>\n",
       "    <tr>\n",
       "      <th>0</th>\n",
       "      <td>1.0</td>\n",
       "      <td>Russia</td>\n",
       "      <td>143964709</td>\n",
       "      <td>17.15</td>\n",
       "      <td>0.19</td>\n",
       "      <td>294285</td>\n",
       "      <td>368</td>\n",
       "      <td>146839993</td>\n",
       "      <td>2017-01-01 00:00:00</td>\n",
       "      <td>EAEU</td>\n",
       "      <td>[1]</td>\n",
       "    </tr>\n",
       "    <tr>\n",
       "      <th>1</th>\n",
       "      <td>2.0</td>\n",
       "      <td>Germany</td>\n",
       "      <td>82521653</td>\n",
       "      <td>9.80</td>\n",
       "      <td>1.20</td>\n",
       "      <td>600000</td>\n",
       "      <td>90</td>\n",
       "      <td>82800000</td>\n",
       "      <td>2016-12-31 00:00:00</td>\n",
       "      <td>EU</td>\n",
       "      <td>Official estimate</td>\n",
       "    </tr>\n",
       "    <tr>\n",
       "      <th>2</th>\n",
       "      <td>3.0</td>\n",
       "      <td>Turkey</td>\n",
       "      <td>80810000</td>\n",
       "      <td>9.60</td>\n",
       "      <td>1.34</td>\n",
       "      <td>1035000</td>\n",
       "      <td>52</td>\n",
       "      <td>77695904</td>\n",
       "      <td>2016-12-31 00:00:00</td>\n",
       "      <td>NaN</td>\n",
       "      <td>[2]</td>\n",
       "    </tr>\n",
       "  </tbody>\n",
       "</table>\n",
       "</div>"
      ],
      "text/plain": [
       "   Rank    Country  Population  % of population  \\\n",
       "0   1.0     Russia   143964709            17.15   \n",
       "1   2.0   Germany     82521653             9.80   \n",
       "2   3.0    Turkey     80810000             9.60   \n",
       "\n",
       "   Average relative annual growth (%)  Average absolute annual growth  \\\n",
       "0                                0.19                          294285   \n",
       "1                                1.20                          600000   \n",
       "2                                1.34                         1035000   \n",
       "\n",
       "  Estimated doubling time (Years)  Official figure (where available)  \\\n",
       "0                             368                          146839993   \n",
       "1                              90                           82800000   \n",
       "2                              52                           77695904   \n",
       "\n",
       "   Date of last figure Regional grouping             Source  \n",
       "0  2017-01-01 00:00:00             EAEU                 [1]  \n",
       "1  2016-12-31 00:00:00               EU   Official estimate  \n",
       "2  2016-12-31 00:00:00               NaN                [2]  "
      ]
     },
     "execution_count": 43,
     "metadata": {},
     "output_type": "execute_result"
    }
   ],
   "source": [
    "europe.head(3) #preview dataframe\n",
    "#eu.head(3)"
   ]
  },
  {
   "cell_type": "code",
   "execution_count": null,
   "metadata": {},
   "outputs": [],
   "source": [
    "# Your code comes here\n",
    "x = pd.concat([europe,eu],join = 'outer')\n",
    "x"
   ]
  },
  {
   "cell_type": "code",
   "execution_count": 68,
   "metadata": {},
   "outputs": [
    {
     "data": {
      "text/html": [
       "<div>\n",
       "<style scoped>\n",
       "    .dataframe tbody tr th:only-of-type {\n",
       "        vertical-align: middle;\n",
       "    }\n",
       "\n",
       "    .dataframe tbody tr th {\n",
       "        vertical-align: top;\n",
       "    }\n",
       "\n",
       "    .dataframe thead th {\n",
       "        text-align: right;\n",
       "    }\n",
       "</style>\n",
       "<table border=\"1\" class=\"dataframe\">\n",
       "  <thead>\n",
       "    <tr style=\"text-align: right;\">\n",
       "      <th></th>\n",
       "      <th>% of pop.</th>\n",
       "      <th>% of population</th>\n",
       "      <th>2017 population</th>\n",
       "      <th>Average absolute annual growth</th>\n",
       "      <th>Average relative annual growth</th>\n",
       "      <th>Average relative annual growth (%)</th>\n",
       "      <th>Country</th>\n",
       "      <th>Date of last figure</th>\n",
       "      <th>Estimated doubling time (Years)</th>\n",
       "      <th>Official figure</th>\n",
       "      <th>Official figure (where available)</th>\n",
       "      <th>Population</th>\n",
       "      <th>Rank</th>\n",
       "      <th>Regional grouping</th>\n",
       "      <th>Source</th>\n",
       "    </tr>\n",
       "  </thead>\n",
       "  <tbody>\n",
       "    <tr>\n",
       "      <th>0</th>\n",
       "      <td>NaN</td>\n",
       "      <td>17.15</td>\n",
       "      <td>NaN</td>\n",
       "      <td>294285</td>\n",
       "      <td>NaN</td>\n",
       "      <td>0.19</td>\n",
       "      <td>Russia</td>\n",
       "      <td>2017-01-01 00:00:00</td>\n",
       "      <td>368</td>\n",
       "      <td>NaN</td>\n",
       "      <td>146839993.0</td>\n",
       "      <td>143964709.0</td>\n",
       "      <td>1.0</td>\n",
       "      <td>EAEU</td>\n",
       "      <td>[1]</td>\n",
       "    </tr>\n",
       "    <tr>\n",
       "      <th>2</th>\n",
       "      <td>NaN</td>\n",
       "      <td>9.60</td>\n",
       "      <td>NaN</td>\n",
       "      <td>1035000</td>\n",
       "      <td>NaN</td>\n",
       "      <td>1.34</td>\n",
       "      <td>Turkey</td>\n",
       "      <td>2016-12-31 00:00:00</td>\n",
       "      <td>52</td>\n",
       "      <td>NaN</td>\n",
       "      <td>77695904.0</td>\n",
       "      <td>80810000.0</td>\n",
       "      <td>3.0</td>\n",
       "      <td>NaN</td>\n",
       "      <td>[2]</td>\n",
       "    </tr>\n",
       "    <tr>\n",
       "      <th>7</th>\n",
       "      <td>NaN</td>\n",
       "      <td>5.10</td>\n",
       "      <td>NaN</td>\n",
       "      <td>-136000</td>\n",
       "      <td>NaN</td>\n",
       "      <td>-0.32</td>\n",
       "      <td>Ukraine</td>\n",
       "      <td>2015-03-01 00:00:00</td>\n",
       "      <td>-</td>\n",
       "      <td>NaN</td>\n",
       "      <td>42726067.0</td>\n",
       "      <td>42895704.0</td>\n",
       "      <td>8.0</td>\n",
       "      <td>NaN</td>\n",
       "      <td>Monthly official estimate</td>\n",
       "    </tr>\n",
       "    <tr>\n",
       "      <th>17</th>\n",
       "      <td>NaN</td>\n",
       "      <td>1.15</td>\n",
       "      <td>NaN</td>\n",
       "      <td>117000</td>\n",
       "      <td>NaN</td>\n",
       "      <td>1.23</td>\n",
       "      <td>Azerbaijan</td>\n",
       "      <td>2017-01-01 00:00:00</td>\n",
       "      <td>57</td>\n",
       "      <td>NaN</td>\n",
       "      <td>9810000.0</td>\n",
       "      <td>9923914.0</td>\n",
       "      <td>18.0</td>\n",
       "      <td>NaN</td>\n",
       "      <td>Official estimate</td>\n",
       "    </tr>\n",
       "    <tr>\n",
       "      <th>18</th>\n",
       "      <td>NaN</td>\n",
       "      <td>1.13</td>\n",
       "      <td>NaN</td>\n",
       "      <td>0</td>\n",
       "      <td>NaN</td>\n",
       "      <td>0.00</td>\n",
       "      <td>Belarus</td>\n",
       "      <td>2015-04-01 00:00:00</td>\n",
       "      <td>-</td>\n",
       "      <td>NaN</td>\n",
       "      <td>9481100.0</td>\n",
       "      <td>9452113.0</td>\n",
       "      <td>19.0</td>\n",
       "      <td>EAEU</td>\n",
       "      <td>Official estimate</td>\n",
       "    </tr>\n",
       "    <tr>\n",
       "      <th>19</th>\n",
       "      <td>NaN</td>\n",
       "      <td>0.85</td>\n",
       "      <td>NaN</td>\n",
       "      <td>-29000</td>\n",
       "      <td>NaN</td>\n",
       "      <td>-0.41</td>\n",
       "      <td>Serbia</td>\n",
       "      <td>2014-01-01 00:00:00</td>\n",
       "      <td>-</td>\n",
       "      <td>NaN</td>\n",
       "      <td>7146759.0</td>\n",
       "      <td>8762027.0</td>\n",
       "      <td>20.0</td>\n",
       "      <td>NaN</td>\n",
       "      <td>Official estimate</td>\n",
       "    </tr>\n",
       "    <tr>\n",
       "      <th>21</th>\n",
       "      <td>NaN</td>\n",
       "      <td>0.98</td>\n",
       "      <td>NaN</td>\n",
       "      <td>71000</td>\n",
       "      <td>NaN</td>\n",
       "      <td>0.87</td>\n",
       "      <td>Switzerland</td>\n",
       "      <td>2014-09-30 00:00:00</td>\n",
       "      <td>80</td>\n",
       "      <td>NaN</td>\n",
       "      <td>8211700.0</td>\n",
       "      <td>8544034.0</td>\n",
       "      <td>22.0</td>\n",
       "      <td>EFTA</td>\n",
       "      <td>Official estimate</td>\n",
       "    </tr>\n",
       "    <tr>\n",
       "      <th>26</th>\n",
       "      <td>NaN</td>\n",
       "      <td>0.62</td>\n",
       "      <td>NaN</td>\n",
       "      <td>57000</td>\n",
       "      <td>NaN</td>\n",
       "      <td>1.11</td>\n",
       "      <td>Norway</td>\n",
       "      <td>2015-01-01 00:00:00</td>\n",
       "      <td>63</td>\n",
       "      <td>NaN</td>\n",
       "      <td>5165802.0</td>\n",
       "      <td>5194000.0</td>\n",
       "      <td>27.0</td>\n",
       "      <td>EFTA</td>\n",
       "      <td>Official estimate</td>\n",
       "    </tr>\n",
       "    <tr>\n",
       "      <th>29</th>\n",
       "      <td>NaN</td>\n",
       "      <td>0.45</td>\n",
       "      <td>NaN</td>\n",
       "      <td>-24000</td>\n",
       "      <td>NaN</td>\n",
       "      <td>-0.64</td>\n",
       "      <td>Bosnia and Herzegovina</td>\n",
       "      <td>2013-10-01 00:00:00</td>\n",
       "      <td>-</td>\n",
       "      <td>NaN</td>\n",
       "      <td>3791622.0</td>\n",
       "      <td>3750000.0</td>\n",
       "      <td>30.0</td>\n",
       "      <td>NaN</td>\n",
       "      <td>Preliminary 2013 census result</td>\n",
       "    </tr>\n",
       "    <tr>\n",
       "      <th>30</th>\n",
       "      <td>NaN</td>\n",
       "      <td>0.44</td>\n",
       "      <td>NaN</td>\n",
       "      <td>-46000</td>\n",
       "      <td>NaN</td>\n",
       "      <td>-1.23</td>\n",
       "      <td>Georgia</td>\n",
       "      <td>2015-01-01 00:00:00</td>\n",
       "      <td>-</td>\n",
       "      <td>NaN</td>\n",
       "      <td>3729500.0</td>\n",
       "      <td>3707000.0</td>\n",
       "      <td>31.0</td>\n",
       "      <td>NaN</td>\n",
       "      <td>Official estimate</td>\n",
       "    </tr>\n",
       "    <tr>\n",
       "      <th>31</th>\n",
       "      <td>NaN</td>\n",
       "      <td>0.42</td>\n",
       "      <td>NaN</td>\n",
       "      <td>17000</td>\n",
       "      <td>NaN</td>\n",
       "      <td>0.48</td>\n",
       "      <td>Moldova</td>\n",
       "      <td>2015-01-01 00:00:00</td>\n",
       "      <td>145</td>\n",
       "      <td>NaN</td>\n",
       "      <td>3555200.0</td>\n",
       "      <td>3564000.0</td>\n",
       "      <td>32.0</td>\n",
       "      <td>NaN</td>\n",
       "      <td>Official estimate</td>\n",
       "    </tr>\n",
       "    <tr>\n",
       "      <th>32</th>\n",
       "      <td>NaN</td>\n",
       "      <td>0.36</td>\n",
       "      <td>NaN</td>\n",
       "      <td>-1000</td>\n",
       "      <td>NaN</td>\n",
       "      <td>-0.03</td>\n",
       "      <td>Armenia</td>\n",
       "      <td>2014-12-31 00:00:00</td>\n",
       "      <td>-</td>\n",
       "      <td>NaN</td>\n",
       "      <td>3010600.0</td>\n",
       "      <td>3010000.0</td>\n",
       "      <td>33.0</td>\n",
       "      <td>EAEU</td>\n",
       "      <td>Monthly official estimate</td>\n",
       "    </tr>\n",
       "    <tr>\n",
       "      <th>34</th>\n",
       "      <td>NaN</td>\n",
       "      <td>0.34</td>\n",
       "      <td>NaN</td>\n",
       "      <td>-12000</td>\n",
       "      <td>NaN</td>\n",
       "      <td>-0.41</td>\n",
       "      <td>Albania</td>\n",
       "      <td>2015-01-01 00:00:00</td>\n",
       "      <td>-</td>\n",
       "      <td>NaN</td>\n",
       "      <td>2893005.0</td>\n",
       "      <td>2887000.0</td>\n",
       "      <td>35.0</td>\n",
       "      <td>NaN</td>\n",
       "      <td>Official estimate</td>\n",
       "    </tr>\n",
       "    <tr>\n",
       "      <th>35</th>\n",
       "      <td>NaN</td>\n",
       "      <td>0.25</td>\n",
       "      <td>NaN</td>\n",
       "      <td>3000</td>\n",
       "      <td>NaN</td>\n",
       "      <td>0.15</td>\n",
       "      <td>Macedonia</td>\n",
       "      <td>2014-12-31 00:00:00</td>\n",
       "      <td>478</td>\n",
       "      <td>NaN</td>\n",
       "      <td>2069172.0</td>\n",
       "      <td>2071000.0</td>\n",
       "      <td>36.0</td>\n",
       "      <td>NaN</td>\n",
       "      <td>Official estimate</td>\n",
       "    </tr>\n",
       "    <tr>\n",
       "      <th>38</th>\n",
       "      <td>NaN</td>\n",
       "      <td>0.22</td>\n",
       "      <td>NaN</td>\n",
       "      <td>20000</td>\n",
       "      <td>NaN</td>\n",
       "      <td>1.08</td>\n",
       "      <td>Kosovo</td>\n",
       "      <td>2012-12-31 00:00:00</td>\n",
       "      <td>64</td>\n",
       "      <td>NaN</td>\n",
       "      <td>1815606.0</td>\n",
       "      <td>1867000.0</td>\n",
       "      <td>NaN</td>\n",
       "      <td>NaN</td>\n",
       "      <td>Official estimate</td>\n",
       "    </tr>\n",
       "    <tr>\n",
       "      <th>41</th>\n",
       "      <td>NaN</td>\n",
       "      <td>0.07</td>\n",
       "      <td>NaN</td>\n",
       "      <td>0</td>\n",
       "      <td>NaN</td>\n",
       "      <td>0.00</td>\n",
       "      <td>Montenegro</td>\n",
       "      <td>2011-04-01 00:00:00</td>\n",
       "      <td>-</td>\n",
       "      <td>NaN</td>\n",
       "      <td>620029.0</td>\n",
       "      <td>620000.0</td>\n",
       "      <td>41.0</td>\n",
       "      <td>NaN</td>\n",
       "      <td>2011 census result</td>\n",
       "    </tr>\n",
       "    <tr>\n",
       "      <th>44</th>\n",
       "      <td>NaN</td>\n",
       "      <td>0.04</td>\n",
       "      <td>NaN</td>\n",
       "      <td>4000</td>\n",
       "      <td>NaN</td>\n",
       "      <td>1.22</td>\n",
       "      <td>Iceland</td>\n",
       "      <td>2015-01-01 00:00:00</td>\n",
       "      <td>57</td>\n",
       "      <td>NaN</td>\n",
       "      <td>329100.0</td>\n",
       "      <td>331000.0</td>\n",
       "      <td>44.0</td>\n",
       "      <td>EFTA</td>\n",
       "      <td>Official estimate</td>\n",
       "    </tr>\n",
       "    <tr>\n",
       "      <th>45</th>\n",
       "      <td>NaN</td>\n",
       "      <td>0.01</td>\n",
       "      <td>NaN</td>\n",
       "      <td>1000</td>\n",
       "      <td>NaN</td>\n",
       "      <td>0.98</td>\n",
       "      <td>Jersey (UK)</td>\n",
       "      <td>2011-03-27 00:00:00</td>\n",
       "      <td>71</td>\n",
       "      <td>NaN</td>\n",
       "      <td>97857.0</td>\n",
       "      <td>103000.0</td>\n",
       "      <td>NaN</td>\n",
       "      <td>NaN</td>\n",
       "      <td>2011 census result</td>\n",
       "    </tr>\n",
       "    <tr>\n",
       "      <th>46</th>\n",
       "      <td>NaN</td>\n",
       "      <td>0.01</td>\n",
       "      <td>NaN</td>\n",
       "      <td>1000</td>\n",
       "      <td>NaN</td>\n",
       "      <td>1.14</td>\n",
       "      <td>Isle of Man (UK)</td>\n",
       "      <td>2011-03-27 00:00:00</td>\n",
       "      <td>61</td>\n",
       "      <td>NaN</td>\n",
       "      <td>84497.0</td>\n",
       "      <td>89000.0</td>\n",
       "      <td>NaN</td>\n",
       "      <td>NaN</td>\n",
       "      <td>2011 census result</td>\n",
       "    </tr>\n",
       "    <tr>\n",
       "      <th>47</th>\n",
       "      <td>NaN</td>\n",
       "      <td>0.01</td>\n",
       "      <td>NaN</td>\n",
       "      <td>1000</td>\n",
       "      <td>NaN</td>\n",
       "      <td>1.30</td>\n",
       "      <td>Andorra</td>\n",
       "      <td>2014</td>\n",
       "      <td>54</td>\n",
       "      <td>NaN</td>\n",
       "      <td>76949.0</td>\n",
       "      <td>78000.0</td>\n",
       "      <td>45.0</td>\n",
       "      <td>NaN</td>\n",
       "      <td>Official estimate</td>\n",
       "    </tr>\n",
       "    <tr>\n",
       "      <th>48</th>\n",
       "      <td>NaN</td>\n",
       "      <td>0.01</td>\n",
       "      <td>NaN</td>\n",
       "      <td>1000</td>\n",
       "      <td>NaN</td>\n",
       "      <td>1.54</td>\n",
       "      <td>Guernsey (UK)</td>\n",
       "      <td>2014-03-31 00:00:00</td>\n",
       "      <td>45</td>\n",
       "      <td>NaN</td>\n",
       "      <td>65150.0</td>\n",
       "      <td>66000.0</td>\n",
       "      <td>NaN</td>\n",
       "      <td>NaN</td>\n",
       "      <td>Official estimate</td>\n",
       "    </tr>\n",
       "    <tr>\n",
       "      <th>49</th>\n",
       "      <td>NaN</td>\n",
       "      <td>0.01</td>\n",
       "      <td>NaN</td>\n",
       "      <td>0</td>\n",
       "      <td>NaN</td>\n",
       "      <td>0.00</td>\n",
       "      <td>Faroe Islands (Denmark)</td>\n",
       "      <td>2015-02-01 00:00:00</td>\n",
       "      <td>-</td>\n",
       "      <td>NaN</td>\n",
       "      <td>48693.0</td>\n",
       "      <td>49000.0</td>\n",
       "      <td>NaN</td>\n",
       "      <td>NaN</td>\n",
       "      <td>Monthly official estimate</td>\n",
       "    </tr>\n",
       "    <tr>\n",
       "      <th>50</th>\n",
       "      <td>NaN</td>\n",
       "      <td>0.00</td>\n",
       "      <td>NaN</td>\n",
       "      <td>0</td>\n",
       "      <td>NaN</td>\n",
       "      <td>0.00</td>\n",
       "      <td>Liechtenstein</td>\n",
       "      <td>2014-12-31 00:00:00</td>\n",
       "      <td>-</td>\n",
       "      <td>NaN</td>\n",
       "      <td>37370.0</td>\n",
       "      <td>37000.0</td>\n",
       "      <td>46.0</td>\n",
       "      <td>EFTA</td>\n",
       "      <td>Official estimate</td>\n",
       "    </tr>\n",
       "    <tr>\n",
       "      <th>51</th>\n",
       "      <td>NaN</td>\n",
       "      <td>0.00</td>\n",
       "      <td>NaN</td>\n",
       "      <td>0</td>\n",
       "      <td>NaN</td>\n",
       "      <td>0.00</td>\n",
       "      <td>Monaco</td>\n",
       "      <td>2013-12-31 00:00:00</td>\n",
       "      <td>-</td>\n",
       "      <td>NaN</td>\n",
       "      <td>36950.0</td>\n",
       "      <td>37000.0</td>\n",
       "      <td>47.0</td>\n",
       "      <td>NaN</td>\n",
       "      <td>Official estimate</td>\n",
       "    </tr>\n",
       "    <tr>\n",
       "      <th>52</th>\n",
       "      <td>NaN</td>\n",
       "      <td>0.00</td>\n",
       "      <td>NaN</td>\n",
       "      <td>1000</td>\n",
       "      <td>NaN</td>\n",
       "      <td>3.03</td>\n",
       "      <td>Gibraltar (UK)</td>\n",
       "      <td>2012</td>\n",
       "      <td>23</td>\n",
       "      <td>NaN</td>\n",
       "      <td>30001.0</td>\n",
       "      <td>34000.0</td>\n",
       "      <td>NaN</td>\n",
       "      <td>EU</td>\n",
       "      <td>Official estimate</td>\n",
       "    </tr>\n",
       "    <tr>\n",
       "      <th>53</th>\n",
       "      <td>NaN</td>\n",
       "      <td>0.00</td>\n",
       "      <td>NaN</td>\n",
       "      <td>0</td>\n",
       "      <td>NaN</td>\n",
       "      <td>0.00</td>\n",
       "      <td>San Marino</td>\n",
       "      <td>2015-02-28 00:00:00</td>\n",
       "      <td>-</td>\n",
       "      <td>NaN</td>\n",
       "      <td>32798.0</td>\n",
       "      <td>33000.0</td>\n",
       "      <td>48.0</td>\n",
       "      <td>NaN</td>\n",
       "      <td>Monthly official estimate</td>\n",
       "    </tr>\n",
       "    <tr>\n",
       "      <th>54</th>\n",
       "      <td>NaN</td>\n",
       "      <td>0.00</td>\n",
       "      <td>NaN</td>\n",
       "      <td>0</td>\n",
       "      <td>NaN</td>\n",
       "      <td>0.00</td>\n",
       "      <td>Åland Islands (Finland)</td>\n",
       "      <td>2013-12-31 00:00:00</td>\n",
       "      <td>-</td>\n",
       "      <td>NaN</td>\n",
       "      <td>28666.0</td>\n",
       "      <td>29000.0</td>\n",
       "      <td>NaN</td>\n",
       "      <td>EU</td>\n",
       "      <td>Official estimate</td>\n",
       "    </tr>\n",
       "    <tr>\n",
       "      <th>55</th>\n",
       "      <td>NaN</td>\n",
       "      <td>0.00</td>\n",
       "      <td>NaN</td>\n",
       "      <td>0</td>\n",
       "      <td>NaN</td>\n",
       "      <td>0.00</td>\n",
       "      <td>Svalbard (Norway)</td>\n",
       "      <td>2014-07-01 00:00:00</td>\n",
       "      <td>-</td>\n",
       "      <td>NaN</td>\n",
       "      <td>2575.0</td>\n",
       "      <td>3000.0</td>\n",
       "      <td>NaN</td>\n",
       "      <td>EFTA</td>\n",
       "      <td>Official estimate</td>\n",
       "    </tr>\n",
       "    <tr>\n",
       "      <th>56</th>\n",
       "      <td>NaN</td>\n",
       "      <td>0.00</td>\n",
       "      <td>NaN</td>\n",
       "      <td>0</td>\n",
       "      <td>NaN</td>\n",
       "      <td>0.00</td>\n",
       "      <td>Vatican City</td>\n",
       "      <td>2012</td>\n",
       "      <td>-</td>\n",
       "      <td>NaN</td>\n",
       "      <td>0.0</td>\n",
       "      <td>1000.0</td>\n",
       "      <td>49.0</td>\n",
       "      <td>NaN</td>\n",
       "      <td>Official estimate</td>\n",
       "    </tr>\n",
       "  </tbody>\n",
       "</table>\n",
       "</div>"
      ],
      "text/plain": [
       "    % of pop.  % of population  2017 population  \\\n",
       "0         NaN            17.15              NaN   \n",
       "2         NaN             9.60              NaN   \n",
       "7         NaN             5.10              NaN   \n",
       "17        NaN             1.15              NaN   \n",
       "18        NaN             1.13              NaN   \n",
       "19        NaN             0.85              NaN   \n",
       "21        NaN             0.98              NaN   \n",
       "26        NaN             0.62              NaN   \n",
       "29        NaN             0.45              NaN   \n",
       "30        NaN             0.44              NaN   \n",
       "31        NaN             0.42              NaN   \n",
       "32        NaN             0.36              NaN   \n",
       "34        NaN             0.34              NaN   \n",
       "35        NaN             0.25              NaN   \n",
       "38        NaN             0.22              NaN   \n",
       "41        NaN             0.07              NaN   \n",
       "44        NaN             0.04              NaN   \n",
       "45        NaN             0.01              NaN   \n",
       "46        NaN             0.01              NaN   \n",
       "47        NaN             0.01              NaN   \n",
       "48        NaN             0.01              NaN   \n",
       "49        NaN             0.01              NaN   \n",
       "50        NaN             0.00              NaN   \n",
       "51        NaN             0.00              NaN   \n",
       "52        NaN             0.00              NaN   \n",
       "53        NaN             0.00              NaN   \n",
       "54        NaN             0.00              NaN   \n",
       "55        NaN             0.00              NaN   \n",
       "56        NaN             0.00              NaN   \n",
       "\n",
       "    Average absolute annual growth  Average relative annual growth  \\\n",
       "0                           294285                             NaN   \n",
       "2                          1035000                             NaN   \n",
       "7                          -136000                             NaN   \n",
       "17                          117000                             NaN   \n",
       "18                               0                             NaN   \n",
       "19                          -29000                             NaN   \n",
       "21                           71000                             NaN   \n",
       "26                           57000                             NaN   \n",
       "29                          -24000                             NaN   \n",
       "30                          -46000                             NaN   \n",
       "31                           17000                             NaN   \n",
       "32                           -1000                             NaN   \n",
       "34                          -12000                             NaN   \n",
       "35                            3000                             NaN   \n",
       "38                           20000                             NaN   \n",
       "41                               0                             NaN   \n",
       "44                            4000                             NaN   \n",
       "45                            1000                             NaN   \n",
       "46                            1000                             NaN   \n",
       "47                            1000                             NaN   \n",
       "48                            1000                             NaN   \n",
       "49                               0                             NaN   \n",
       "50                               0                             NaN   \n",
       "51                               0                             NaN   \n",
       "52                            1000                             NaN   \n",
       "53                               0                             NaN   \n",
       "54                               0                             NaN   \n",
       "55                               0                             NaN   \n",
       "56                               0                             NaN   \n",
       "\n",
       "    Average relative annual growth (%)                    Country  \\\n",
       "0                                 0.19                     Russia   \n",
       "2                                 1.34                    Turkey    \n",
       "7                                -0.32                    Ukraine   \n",
       "17                                1.23                Azerbaijan    \n",
       "18                                0.00                   Belarus    \n",
       "19                               -0.41                    Serbia    \n",
       "21                                0.87               Switzerland    \n",
       "26                                1.11                    Norway    \n",
       "29                               -0.64    Bosnia and Herzegovina    \n",
       "30                               -1.23                   Georgia    \n",
       "31                                0.48                   Moldova    \n",
       "32                               -0.03                   Armenia    \n",
       "34                               -0.41                   Albania    \n",
       "35                                0.15                 Macedonia    \n",
       "38                                1.08                    Kosovo    \n",
       "41                                0.00                Montenegro    \n",
       "44                                1.22                   Iceland    \n",
       "45                                0.98               Jersey (UK)    \n",
       "46                                1.14          Isle of Man (UK)    \n",
       "47                                1.30                   Andorra    \n",
       "48                                1.54             Guernsey (UK)    \n",
       "49                                0.00   Faroe Islands (Denmark)    \n",
       "50                                0.00             Liechtenstein    \n",
       "51                                0.00                    Monaco    \n",
       "52                                3.03             Gibraltar (UK)   \n",
       "53                                0.00                San Marino    \n",
       "54                                0.00   Åland Islands (Finland)    \n",
       "55                                0.00         Svalbard (Norway)    \n",
       "56                                0.00              Vatican City    \n",
       "\n",
       "    Date of last figure Estimated doubling time (Years)  Official figure  \\\n",
       "0   2017-01-01 00:00:00                             368              NaN   \n",
       "2   2016-12-31 00:00:00                              52              NaN   \n",
       "7   2015-03-01 00:00:00                              -               NaN   \n",
       "17  2017-01-01 00:00:00                              57              NaN   \n",
       "18  2015-04-01 00:00:00                              -               NaN   \n",
       "19  2014-01-01 00:00:00                              -               NaN   \n",
       "21  2014-09-30 00:00:00                              80              NaN   \n",
       "26  2015-01-01 00:00:00                              63              NaN   \n",
       "29  2013-10-01 00:00:00                              -               NaN   \n",
       "30  2015-01-01 00:00:00                              -               NaN   \n",
       "31  2015-01-01 00:00:00                             145              NaN   \n",
       "32  2014-12-31 00:00:00                              -               NaN   \n",
       "34  2015-01-01 00:00:00                              -               NaN   \n",
       "35  2014-12-31 00:00:00                             478              NaN   \n",
       "38  2012-12-31 00:00:00                              64              NaN   \n",
       "41  2011-04-01 00:00:00                              -               NaN   \n",
       "44  2015-01-01 00:00:00                              57              NaN   \n",
       "45  2011-03-27 00:00:00                              71              NaN   \n",
       "46  2011-03-27 00:00:00                              61              NaN   \n",
       "47                 2014                              54              NaN   \n",
       "48  2014-03-31 00:00:00                              45              NaN   \n",
       "49  2015-02-01 00:00:00                              -               NaN   \n",
       "50  2014-12-31 00:00:00                              -               NaN   \n",
       "51  2013-12-31 00:00:00                              -               NaN   \n",
       "52                 2012                              23              NaN   \n",
       "53  2015-02-28 00:00:00                              -               NaN   \n",
       "54  2013-12-31 00:00:00                              -               NaN   \n",
       "55  2014-07-01 00:00:00                              -               NaN   \n",
       "56                 2012                              -               NaN   \n",
       "\n",
       "    Official figure (where available)   Population  Rank Regional grouping  \\\n",
       "0                         146839993.0  143964709.0   1.0             EAEU    \n",
       "2                          77695904.0   80810000.0   3.0               NaN   \n",
       "7                          42726067.0   42895704.0   8.0               NaN   \n",
       "17                          9810000.0    9923914.0  18.0               NaN   \n",
       "18                          9481100.0    9452113.0  19.0             EAEU    \n",
       "19                          7146759.0    8762027.0  20.0               NaN   \n",
       "21                          8211700.0    8544034.0  22.0             EFTA    \n",
       "26                          5165802.0    5194000.0  27.0             EFTA    \n",
       "29                          3791622.0    3750000.0  30.0               NaN   \n",
       "30                          3729500.0    3707000.0  31.0               NaN   \n",
       "31                          3555200.0    3564000.0  32.0               NaN   \n",
       "32                          3010600.0    3010000.0  33.0             EAEU    \n",
       "34                          2893005.0    2887000.0  35.0               NaN   \n",
       "35                          2069172.0    2071000.0  36.0               NaN   \n",
       "38                          1815606.0    1867000.0   NaN               NaN   \n",
       "41                           620029.0     620000.0  41.0               NaN   \n",
       "44                           329100.0     331000.0  44.0             EFTA    \n",
       "45                            97857.0     103000.0   NaN               NaN   \n",
       "46                            84497.0      89000.0   NaN               NaN   \n",
       "47                            76949.0      78000.0  45.0               NaN   \n",
       "48                            65150.0      66000.0   NaN               NaN   \n",
       "49                            48693.0      49000.0   NaN               NaN   \n",
       "50                            37370.0      37000.0  46.0             EFTA    \n",
       "51                            36950.0      37000.0  47.0               NaN   \n",
       "52                            30001.0      34000.0   NaN               EU    \n",
       "53                            32798.0      33000.0  48.0               NaN   \n",
       "54                            28666.0      29000.0   NaN               EU    \n",
       "55                             2575.0       3000.0   NaN             EFTA    \n",
       "56                                0.0       1000.0  49.0               NaN   \n",
       "\n",
       "                            Source  \n",
       "0                              [1]  \n",
       "2                              [2]  \n",
       "7        Monthly official estimate  \n",
       "17               Official estimate  \n",
       "18               Official estimate  \n",
       "19               Official estimate  \n",
       "21               Official estimate  \n",
       "26               Official estimate  \n",
       "29  Preliminary 2013 census result  \n",
       "30               Official estimate  \n",
       "31               Official estimate  \n",
       "32       Monthly official estimate  \n",
       "34               Official estimate  \n",
       "35               Official estimate  \n",
       "38               Official estimate  \n",
       "41              2011 census result  \n",
       "44               Official estimate  \n",
       "45              2011 census result  \n",
       "46              2011 census result  \n",
       "47               Official estimate  \n",
       "48               Official estimate  \n",
       "49       Monthly official estimate  \n",
       "50               Official estimate  \n",
       "51               Official estimate  \n",
       "52               Official estimate  \n",
       "53       Monthly official estimate  \n",
       "54               Official estimate  \n",
       "55               Official estimate  \n",
       "56               Official estimate  "
      ]
     },
     "execution_count": 68,
     "metadata": {},
     "output_type": "execute_result"
    }
   ],
   "source": [
    "\n",
    "#How to filter a dataframe based on a columns frequency\n",
    "counts = x['Country'].value_counts()\n",
    "res = x[x['Country'].isin(counts[counts == 1].index)]\n"
   ]
  },
  {
   "cell_type": "markdown",
   "metadata": {},
   "source": [
    "## Summary"
   ]
  },
  {
   "cell_type": "markdown",
   "metadata": {},
   "source": [
    "In this lab, you practiced your knowledge on sets, such as common set operations, the use of Venn Diagrams, the inclusion exclusion principle, and how to use sets in Python! "
   ]
  }
 ],
 "metadata": {
  "kernelspec": {
   "display_name": "Python 3",
   "language": "python",
   "name": "python3"
  },
  "language_info": {
   "codemirror_mode": {
    "name": "ipython",
    "version": 3
   },
   "file_extension": ".py",
   "mimetype": "text/x-python",
   "name": "python",
   "nbconvert_exporter": "python",
   "pygments_lexer": "ipython3",
   "version": "3.6.6"
  }
 },
 "nbformat": 4,
 "nbformat_minor": 2
}
